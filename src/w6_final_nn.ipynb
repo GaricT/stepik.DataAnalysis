{
 "cells": [
  {
   "cell_type": "markdown",
   "metadata": {
    "colab_type": "text",
    "id": "2qyvfuatXzNV"
   },
   "source": [
    "# 1. Инициализация окружения\n",
    "В качестве итогового проекта решаем задачу классификации на наборе данных [Fashion-MNIST](https://www.kaggle.com/zalando-research/fashionmnist)\n",
    "## Загрузка библиотек"
   ]
  },
  {
   "cell_type": "code",
   "execution_count": 1,
   "metadata": {
    "colab": {},
    "colab_type": "code",
    "id": "HLnSpORKXzNW"
   },
   "outputs": [],
   "source": [
    "# tensorflow должна быть не ниже 1.13.0rc0\n",
    "import tensorflow as tf\n",
    "# numpy должна быть не ниже 1.16.1\n",
    "import numpy as np\n",
    "from tensorflow import keras\n",
    "import matplotlib.pyplot as plt\n",
    "import pandas as pd\n",
    "from IPython.display import clear_output"
   ]
  },
  {
   "cell_type": "markdown",
   "metadata": {
    "colab_type": "text",
    "id": "VBN7dOqfXzNa"
   },
   "source": [
    "## Загрузка данных\n",
    "### C помощью класса `fashion_mnist` по сети"
   ]
  },
  {
   "cell_type": "code",
   "execution_count": 2,
   "metadata": {
    "colab": {
     "base_uri": "https://localhost:8080/",
     "height": 227
    },
    "colab_type": "code",
    "id": "6tlCAQypXzNb",
    "outputId": "0a89b92f-598a-4064-f05c-61f4853b040f"
   },
   "outputs": [
    {
     "name": "stdout",
     "output_type": "stream",
     "text": [
      "train: (60000, 28, 28) (60000,)\n",
      "test:  (10000, 28, 28) (10000,)\n",
      "train: (60000, 784) (60000, 10)\n",
      "test:  (10000, 784) (10000, 10)\n"
     ]
    },
    {
     "data": {
      "image/png": "[encoded data removed]",
      "text/plain": [
       "<Figure size 144x144 with 1 Axes>"
      ]
     },
     "metadata": {
      "needs_background": "light"
     },
     "output_type": "display_data"
    }
   ],
   "source": [
    "fashion_mnist = keras.datasets.fashion_mnist\n",
    "(x_train, y_train), (x_test, y_test) = fashion_mnist.load_data()\n",
    "\n",
    "# Нормализация\n",
    "x_train = x_train / 256\n",
    "x_test = x_test / 256\n",
    "\n",
    "# Начальный датасет\n",
    "print(\"train:\", x_train.shape, y_train.shape)\n",
    "print(\"test: \", x_test.shape, y_test.shape)\n",
    "\n",
    "# Выводим 1 изображение\n",
    "plt.figure(figsize=(2,2))\n",
    "plt.gray()\n",
    "plt.imshow(x_train[1])\n",
    "\n",
    "# Преобразуем код одежды в one-hot представление\n",
    "y_train = keras.utils.to_categorical(y_train)\n",
    "y_test = keras.utils.to_categorical(y_test)\n",
    "\n",
    "# Изменяем размерность массива маски\n",
    "x_train = x_train.reshape(len(x_train), 28 ** 2)\n",
    "x_test = x_test.reshape(len(x_test), 28 ** 2)\n",
    "\n",
    "# Результат преобразований\n",
    "print(\"train:\", x_train.shape, y_train.shape)\n",
    "print(\"test: \", x_test.shape, y_test.shape)"
   ]
  },
  {
   "cell_type": "markdown",
   "metadata": {
    "colab_type": "text",
    "id": "O-xM85qcXzNg"
   },
   "source": [
    "### Из локальной директории"
   ]
  },
  {
   "cell_type": "markdown",
   "metadata": {
    "colab_type": "text",
    "id": "nk1Y6MW6XzNh"
   },
   "source": [
    "Если не удалось загрузить файлы по сети, то можно загрузить их локально.  \n",
    "Скачиваем набор данных `Fashion-MNIST`, распаковываем в 1 директорию:\n",
    "* t10k-images-idx3-ubyte\n",
    "* t10k-labels-idx1-ubyte\n",
    "* train-images-idx3-ubyte\n",
    "* train-labels-idx1-ubyte\n",
    "\n",
    "При необходимости устанавливаем пакет `python-mnist`."
   ]
  },
  {
   "cell_type": "code",
   "execution_count": 0,
   "metadata": {
    "colab": {},
    "colab_type": "code",
    "id": "BHs7CS3AXzNi",
    "outputId": "38827aea-782f-4243-80fe-174d38133720"
   },
   "outputs": [
    {
     "name": "stdout",
     "output_type": "stream",
     "text": [
      "train: (60000, 784) (60000,)\n",
      "test:  (10000, 784) (10000,)\n"
     ]
    }
   ],
   "source": [
    "from mnist import MNIST\n",
    "\n",
    "# '.\\data' - директория в которой находятся файлы для загрузки\n",
    "# Нужно указать самостоятельно\n",
    "mndata = MNIST('.\\data')\n",
    "\n",
    "# Загружаем\n",
    "x1_train, y1_train = mndata.load_training()\n",
    "x1_test, y1_test = mndata.load_testing()\n",
    "\n",
    "# Преобрзуем список в массив NumPy\n",
    "x1_train, y1_train = np.array(x1_train), np.array(y1_train)\n",
    "x1_test, y1_test = np.array(x1_test), np.array(y1_test)\n",
    "\n",
    "print(\"train:\", x1_train.shape, y1_train.shape)\n",
    "print(\"test: \", x1_test.shape, y1_test.shape)"
   ]
  },
  {
   "cell_type": "markdown",
   "metadata": {
    "colab_type": "text",
    "id": "e4LulA73XzNl"
   },
   "source": [
    "## Вспомогательный класс `SimpleModel`"
   ]
  },
  {
   "cell_type": "markdown",
   "metadata": {
    "colab_type": "text",
    "id": "oKJFfVlQXzNm"
   },
   "source": [
    "Т.к. все последующие вычисления будут реализованы с помощью `keras`, то имеет смысл вынести общие части в 1 место что бы не дублировать код."
   ]
  },
  {
   "cell_type": "code",
   "execution_count": 3,
   "metadata": {
    "colab": {},
    "colab_type": "code",
    "id": "CNF8iomTXzNn"
   },
   "outputs": [],
   "source": [
    "class SimpleModel:\n",
    "    def __init__(self, epochs, batch_size=None, verbose=0):\n",
    "#         Количество эпох\n",
    "        self.epochs = epochs\n",
    "#         Информативность лога при расчете: \n",
    "#             0 - ничего не выводить, \n",
    "#             1 - самый полный \n",
    "#             ... \n",
    "#             3 - минимальный\n",
    "        self.verbose = verbose\n",
    "#         Размер порции данных для обучения\n",
    "        self.batch_size = batch_size\n",
    "#         Результат работы метода fit\n",
    "        self.hist_df = pd.DataFrame()\n",
    "        self.model = keras.models.Sequential()\n",
    "\n",
    "#     Добавление слоя\n",
    "    def add(self, layer_obj):\n",
    "        self.model.add(layer_obj)\n",
    "\n",
    "#     Добавление слоя\n",
    "    def compile(self):\n",
    "#         Компилируем модель\n",
    "        self.model.compile(loss='categorical_crossentropy',\n",
    "                           optimizer=keras.optimizers.SGD(momentum=0.9),\n",
    "                           metrics=['accuracy'],\n",
    "                          )\n",
    "        \n",
    "#     Обучение модели\n",
    "    def fit(self, x, y, validation_data=None, callbacks=None):\n",
    "        hist = self.model.fit(x, y,\n",
    "                              batch_size=self.batch_size,\n",
    "                              epochs=self.epochs,\n",
    "                              verbose=self.verbose,\n",
    "                              validation_data=validation_data,\n",
    "                              callbacks=callbacks,\n",
    "                            )\n",
    "#         Сохраняем историю в датафрейм\n",
    "        self.hist_df = pd.DataFrame()\n",
    "        for name in filter(lambda x: x in hist.history.keys(), ['acc', 'val_acc']):\n",
    "            self.hist_df.insert(len(self.hist_df.columns), \n",
    "                                name, \n",
    "                                hist.history[name])\n",
    "#         Увеличиваем индексы на 1 => индексы начинаются с 1, а не с 0\n",
    "        if not self.hist_df.empty:\n",
    "            self.hist_df.index +=1\n",
    "\n",
    "#     Оценка точности модели\n",
    "    def accuracy(self, x, y, verbose=0):\n",
    "        loss, accuracy = self.model.evaluate(x, y, verbose=0)\n",
    "        if verbose:\n",
    "            print('accuracy:', accuracy)\n",
    "        else:\n",
    "            return accuracy\n",
    "    "
   ]
  },
  {
   "cell_type": "markdown",
   "metadata": {
    "colab_type": "text",
    "id": "CIuvIvA9XzNq"
   },
   "source": [
    "## Процедура вывода графика"
   ]
  },
  {
   "cell_type": "code",
   "execution_count": 43,
   "metadata": {
    "colab": {},
    "colab_type": "code",
    "id": "RAlEfoxRXzNr"
   },
   "outputs": [],
   "source": [
    "def prn_graph(df, title, x_axis=None):\n",
    "    legend = ['Тренировочнае', 'Тестовые']\n",
    "    if x_axis is not None:\n",
    "        df = df.loc[x_axis,]\n",
    "    for name in filter(lambda x: x in df.columns, ['acc', 'val_acc']):\n",
    "        plt.plot(df[name])\n",
    "    plt.title(title)\n",
    "    plt.ylabel('Точность')\n",
    "    plt.xlabel('Эпоха')\n",
    "    plt.legend(legend)\n",
    "    plt.show()        \n"
   ]
  },
  {
   "cell_type": "markdown",
   "metadata": {
    "colab_type": "text",
    "id": "sp-0ouHpXzNt"
   },
   "source": [
    "## Класс, прерывающий обучение при снижении точности модели\n",
    "* `monitor` - оценивается точность работы модели на тестовых данных `val_acc`\n",
    "* `patience` - количество снижений подряд прежде чем процесс обучения будет остановлен\n",
    "* `restore_best_weights` - появилось в `tensorflow` версии `1.13`, восстанавливает веса из самой точной модели"
   ]
  },
  {
   "cell_type": "code",
   "execution_count": 5,
   "metadata": {
    "colab": {},
    "colab_type": "code",
    "id": "ZN22BRLBXzNu"
   },
   "outputs": [],
   "source": [
    "def gen_stop_callback():\n",
    "    return keras.callbacks.EarlyStopping(monitor='val_acc',\n",
    "                                         patience=15,\n",
    "                                         restore_best_weights=True)\n"
   ]
  },
  {
   "cell_type": "markdown",
   "metadata": {
    "colab_type": "text",
    "id": "1I97UgF3XzNx"
   },
   "source": [
    "## Класс `TensorBoard`, визуализация обучения"
   ]
  },
  {
   "cell_type": "code",
   "execution_count": 6,
   "metadata": {
    "colab": {},
    "colab_type": "code",
    "id": "dTKHo_WvXzNy"
   },
   "outputs": [],
   "source": [
    "def get_tensorboard():\n",
    "    return keras.callbacks.TensorBoard()\n"
   ]
  },
  {
   "cell_type": "markdown",
   "metadata": {
    "colab_type": "text",
    "id": "A3pAl_c8XzN1"
   },
   "source": [
    "## 1.5 Параметры обучения модели\n",
    "Для всех моделей будут использоваться один набор данных, причины выбора именно этих значений можно узнать в самом низу нуотбука. \n",
    "Один набор позволить сравнить точность моделей при одних и тех же параметрах, а так же при необходимости попробовать подобрать параметры позволящие, если не улучшить качество, то хотя бы уменьшить время обучения"
   ]
  },
  {
   "cell_type": "code",
   "execution_count": 7,
   "metadata": {
    "colab": {},
    "colab_type": "code",
    "id": "OaaJS5HYXzN2"
   },
   "outputs": [],
   "source": [
    "class Param:\n",
    "    # количество выходных классов\n",
    "    num_classes = 10\n",
    "\n",
    "    # Максимальное количество эпох при обучении\n",
    "    epochs=1000\n",
    "\n",
    "    # объем выводимой информации в логе\n",
    "    verbose=0"
   ]
  },
  {
   "cell_type": "markdown",
   "metadata": {
    "colab_type": "text",
    "id": "GllK9NkDXzN4"
   },
   "source": [
    "# 1. Логистическая регрессия\n",
    "\n",
    "Для решения задачи классификации предлагается начать с использования логистической регрессии. В данном случае, количество признаков равно 28x28=784, так же мы имеем 60000 объектов в тренировочной выборке. Поэтому рекомендуется использовать `tensorflow` или `keras` для выполнения этого задания. Используйте стохастический градиентный спуск (`stochastic gradient descent`) в качестве алгоритма оптимизации.\n",
    "\n",
    "По своей сути, логистическая регрессия может быть реализована как нейронная сеть без скрытых слоев. В выходном слое содержится количество нейронов, равное количеству классов. В качестве функции активации выходного слоя следует использовать `softmax`.\n",
    "\n",
    "Обучите логистическую регрессию на тренировочной выборке и оцените качество на тестовой выборке используя метрику `accuracy`. Постройте график качества модели на валидационной выборке от количества эпох. Для этого вы можете использовать утилиту `tensorboard`."
   ]
  },
  {
   "cell_type": "code",
   "execution_count": 8,
   "metadata": {
    "colab": {},
    "colab_type": "code",
    "id": "5Y3N1TlLXzN5"
   },
   "outputs": [],
   "source": [
    "# Метод возвращающий модель\n",
    "def gen_log_model(epochs, batch_size=None):\n",
    "    model = SimpleModel(epochs, batch_size=batch_size, verbose=Param.verbose)\n",
    "    model.add(keras.layers.Dense(Param.num_classes, activation='softmax', input_shape=(784,)))\n",
    "    model.compile()\n",
    "    return model\n"
   ]
  },
  {
   "cell_type": "markdown",
   "metadata": {
    "colab_type": "text",
    "id": "iP1TA1l8XzN8"
   },
   "source": [
    "## 1.1 Точность модели"
   ]
  },
  {
   "cell_type": "code",
   "execution_count": 9,
   "metadata": {
    "colab": {
     "base_uri": "https://localhost:8080/",
     "height": 34
    },
    "colab_type": "code",
    "id": "TH2zIwarXzN9",
    "outputId": "24126844-f9dc-4ac2-8bca-fc096d6977f2"
   },
   "outputs": [
    {
     "name": "stdout",
     "output_type": "stream",
     "text": [
      "accuracy: 0.8449000120162964\n"
     ]
    }
   ],
   "source": [
    "log_model = gen_log_model(Param.epochs)\n",
    "log_model.fit(x_train, y_train,\n",
    "              validation_data=(x_test, y_test),\n",
    "              callbacks=[gen_stop_callback(), get_tensorboard()]\n",
    "             )\n",
    "# Почистим вывод от лишней информации\n",
    "clear_output()\n",
    "\n",
    "log_accuracy = log_model.accuracy(x_test, y_test)\n",
    "print(f\"accuracy: {log_accuracy}\")"
   ]
  },
  {
   "cell_type": "markdown",
   "metadata": {
    "colab_type": "text",
    "id": "iAJGkyUGXzOA"
   },
   "source": [
    "## 1.2 Визуализация с помощью `matplotlib`"
   ]
  },
  {
   "cell_type": "code",
   "execution_count": 44,
   "metadata": {
    "colab": {
     "base_uri": "https://localhost:8080/",
     "height": 376
    },
    "colab_type": "code",
    "id": "HDk1LjGGXzOB",
    "outputId": "7281a5fa-6556-43f8-acb6-24b22811c02d"
   },
   "outputs": [
    {
     "data": {
      "image/png": "[encoded data removed]",
      "text/plain": [
       "<Figure size 432x288 with 1 Axes>"
      ]
     },
     "metadata": {
      "needs_background": "light"
     },
     "output_type": "display_data"
    }
   ],
   "source": [
    "prn_graph(log_model.hist_df, 'Точность модели')"
   ]
  },
  {
   "cell_type": "markdown",
   "metadata": {
    "colab_type": "text",
    "id": "EagzzcawXzOE"
   },
   "source": [
    "## 1.3 Визуализация с помощью `TensorBoard`\n",
    "Для запуска веб-интерфейса на локальном компьютере нужно выполнить в команной строке команду:  \n",
    "`tensorboard --logdir==.\\log --host=127.0.0.1`  \n",
    "`.\\log` - полный путь к каталогу с логами созданными `tensorboard_callback`\n",
    "Если расчеты запускаются на удаленной машине, то `--host=127.0.0.1` можно опустить  \n",
    "[Веб-интерфейс на локальной машине](http://127.0.0.1:6006)"
   ]
  },
  {
   "cell_type": "markdown",
   "metadata": {
    "colab_type": "text",
    "id": "-d5twNZuXzOF"
   },
   "source": [
    "# 2. Полносвязная нейронная сеть\n",
    "Полносвязная нейронная сеть с несколькими скрытыми слоями. \n",
    "Как изменилось качество в сравнении с логистической регрессией? \n",
    "Как можно объяснить этот результат?"
   ]
  },
  {
   "cell_type": "code",
   "execution_count": 11,
   "metadata": {
    "colab": {},
    "colab_type": "code",
    "id": "X2L5U1yAXzOH"
   },
   "outputs": [],
   "source": [
    "def get_hopfield(epochs, batch_size=None):\n",
    "    model = SimpleModel(epochs, batch_size=batch_size)\n",
    "    model.add(keras.layers.Dense(32, activation='relu', input_shape=(784,)))\n",
    "    model.add(keras.layers.Dense(64, activation='relu'))\n",
    "    model.add(keras.layers.Dense(Param.num_classes, activation='softmax'))\n",
    "    model.compile()\n",
    "    return model\n"
   ]
  },
  {
   "cell_type": "markdown",
   "metadata": {
    "colab_type": "text",
    "id": "hC85u6FVXzOK"
   },
   "source": [
    "## 2.1 Точность модели"
   ]
  },
  {
   "cell_type": "code",
   "execution_count": 12,
   "metadata": {
    "colab": {
     "base_uri": "https://localhost:8080/",
     "height": 34
    },
    "colab_type": "code",
    "id": "fE980H0IXzOM",
    "outputId": "ee886565-caea-4341-b021-a2988f4614f4"
   },
   "outputs": [
    {
     "name": "stdout",
     "output_type": "stream",
     "text": [
      "accuracy: 0.8805999755859375\n"
     ]
    }
   ],
   "source": [
    "hopfield = get_hopfield(Param.epochs)\n",
    "hopfield.fit(x_train, y_train,\n",
    "             validation_data=(x_test, y_test),\n",
    "             callbacks=[gen_stop_callback()]\n",
    "            )\n",
    "\n",
    "hopf_accuracy = hopfield.accuracy(x_test, y_test)\n",
    "print(f\"accuracy: {hopf_accuracy}\")"
   ]
  },
  {
   "cell_type": "code",
   "execution_count": 16,
   "metadata": {
    "colab": {},
    "colab_type": "code",
    "id": "eZ60KKrBXzOP",
    "outputId": "ec864cfe-bb0f-475c-d9c8-65d26e866f8b"
   },
   "outputs": [
    {
     "name": "stdout",
     "output_type": "stream",
     "text": [
      "84.49% точность логистической регрессии\n",
      "88.06% точность полносвязанной сети\n"
     ]
    }
   ],
   "source": [
    "print(f\"{log_accuracy:.2%} точность логистической регрессии\")\n",
    "print(f\"{hopf_accuracy:.2%} точность полносвязанной сети\")"
   ]
  },
  {
   "cell_type": "markdown",
   "metadata": {
    "colab_type": "text",
    "id": "xCkd_ZiYXzOS"
   },
   "source": [
    "Точность полносвязанной сети должна превышать точность логистической регрессии, как минимум потому что полносвязанная сеть представляет собой более сложную струкутуру, которая позволяет более точно вычислять весовые коэффициенты"
   ]
  },
  {
   "cell_type": "markdown",
   "metadata": {
    "colab_type": "text",
    "id": "0zYStR2CXzOU"
   },
   "source": [
    "# 3. Сверточная нейронная сеть\n",
    "Модели с несколькими сверточными слоями. \n"
   ]
  },
  {
   "cell_type": "code",
   "execution_count": 17,
   "metadata": {
    "colab": {},
    "colab_type": "code",
    "id": "JucRx6MoXzOV"
   },
   "outputs": [],
   "source": [
    "# Преобразуем данные \n",
    "x_train_pixel = x_train.reshape(len(x_train), 28, 28, 1)\n",
    "x_test_pixel  = x_test.reshape(len(x_test), 28, 28, 1)\n"
   ]
  },
  {
   "cell_type": "markdown",
   "metadata": {
    "colab_type": "text",
    "id": "JENHai8kXzOX"
   },
   "source": [
    "## 3.1 Используются слои суб-дискретизации,\n",
    "Например `Max Pooling` слои. Они понижают размерность исходных данных и выделяют наиболее важные признаки из данных. Посчитайте качество получившейся модели на тестовой выборке. Сравните полученные результаты с результатами полносвязной нейронной сети."
   ]
  },
  {
   "cell_type": "code",
   "execution_count": 30,
   "metadata": {
    "colab": {},
    "colab_type": "code",
    "id": "LmlZXK7jXzOY"
   },
   "outputs": [],
   "source": [
    "def get_sub_layers(epochs, batch_size=None):\n",
    "    model = SimpleModel(epochs, batch_size=batch_size)\n",
    "\n",
    "    model.add(keras.layers.Convolution2D(32, \n",
    "                                         kernel_size=(3,3), \n",
    "                                         input_shape=(28,28, 1),\n",
    "                                         activation='relu'))\n",
    "    model.add(keras.layers.MaxPooling2D((2,2)))\n",
    "    model.add(keras.layers.Flatten())\n",
    "    model.add(keras.layers.Dense(32, activation='relu'))\n",
    "    model.add(keras.layers.Dense(Param.num_classes, activation='softmax'))\n",
    "    model.compile()\n",
    "    return model\n"
   ]
  },
  {
   "cell_type": "markdown",
   "metadata": {
    "colab_type": "text",
    "id": "t6kfFcbyXzOb"
   },
   "source": [
    "### 3.1.1 Точность модели"
   ]
  },
  {
   "cell_type": "code",
   "execution_count": 31,
   "metadata": {
    "colab": {
     "base_uri": "https://localhost:8080/",
     "height": 34
    },
    "colab_type": "code",
    "id": "6CmR3KsoXzOb",
    "outputId": "94e779d7-c1f0-4a4e-dd4b-c97f2808fe2d"
   },
   "outputs": [
    {
     "name": "stdout",
     "output_type": "stream",
     "text": [
      "accuracy: 0.9132000207901001\n"
     ]
    }
   ],
   "source": [
    "sub_layers = get_sub_layers(Param.epochs)\n",
    "sub_layers.fit(x_train_pixel, y_train,\n",
    "               validation_data=(x_test_pixel, y_test),\n",
    "               callbacks=[gen_stop_callback()]\n",
    "              )\n",
    "\n",
    "sub_accuracy = sub_layers.accuracy(x_test_pixel, y_test)\n",
    "print(f\"accuracy: {sub_accuracy}\")\n"
   ]
  },
  {
   "cell_type": "markdown",
   "metadata": {
    "colab_type": "text",
    "id": "5LtyNlmavdkR"
   },
   "source": [
    "Добавление слоев суб-дискретизации позволило получить более точную модель при более простой структуре модели (по сложности вычислений в модели)"
   ]
  },
  {
   "cell_type": "code",
   "execution_count": 46,
   "metadata": {
    "colab": {},
    "colab_type": "code",
    "id": "8vp8Ke1ovePb"
   },
   "outputs": [
    {
     "name": "stdout",
     "output_type": "stream",
     "text": [
      "88.06% точность полносвязанной сети\n",
      "91.32% точность сверточной сети\n"
     ]
    }
   ],
   "source": [
    "print(f\"{hopf_accuracy:.2%} точность полносвязанной сети\")\n",
    "print(f\"{sub_accuracy:.2%} точность сверточной сети\")"
   ]
  },
  {
   "cell_type": "markdown",
   "metadata": {
    "colab_type": "text",
    "id": "lA4tajrOXzOe"
   },
   "source": [
    "## 3.2 Увеличенное количество слоев"
   ]
  },
  {
   "cell_type": "code",
   "execution_count": 37,
   "metadata": {
    "colab": {},
    "colab_type": "code",
    "id": "2hM-BoYeXzOf"
   },
   "outputs": [],
   "source": [
    "def get_sub_layers_big(epochs, batch_size=None):\n",
    "    model = SimpleModel(epochs, batch_size=batch_size)\n",
    "\n",
    "    model.add(keras.layers.Convolution2D(32, \n",
    "                                         kernel_size=(3,3), \n",
    "                                         input_shape=(28,28, 1),\n",
    "                                         activation='relu'))\n",
    "    model.add(keras.layers.MaxPooling2D((2,2)))\n",
    "    model.add(keras.layers.Convolution2D(64, \n",
    "                                         kernel_size=(3,3), \n",
    "                                         activation='relu'))\n",
    "    model.add(keras.layers.MaxPooling2D((2,2)))\n",
    "    model.add(keras.layers.Convolution2D(128, \n",
    "                                         kernel_size=(3,3), \n",
    "                                         activation='relu'))\n",
    "    model.add(keras.layers.MaxPooling2D((2,2)))\n",
    "    model.add(keras.layers.Flatten())\n",
    "    model.add(keras.layers.Dense(32, activation='relu'))\n",
    "    model.add(keras.layers.Dense(Param.num_classes, activation='softmax'))\n",
    "    model.compile()\n",
    "    return model\n"
   ]
  },
  {
   "cell_type": "markdown",
   "metadata": {
    "colab_type": "text",
    "id": "wj8ttEy2XzOi"
   },
   "source": [
    "### 3.2.1 Точность модели"
   ]
  },
  {
   "cell_type": "code",
   "execution_count": 48,
   "metadata": {
    "colab": {
     "base_uri": "https://localhost:8080/",
     "height": 34
    },
    "colab_type": "code",
    "id": "B0IibhoeXzOj",
    "outputId": "5017a89e-403e-403a-f4d3-cbc3a2d2ccb4"
   },
   "outputs": [
    {
     "name": "stdout",
     "output_type": "stream",
     "text": [
      "accuracy: 0.88919997215271\n"
     ]
    }
   ],
   "source": [
    "sub_layers_big = get_sub_layers_big(Param.epochs)\n",
    "sub_layers_big.fit(x_train_pixel, y_train,\n",
    "                   validation_data=(x_test_pixel, y_test),\n",
    "                   callbacks=[gen_stop_callback()]\n",
    "                  )\n",
    "\n",
    "subbig_accuracy = sub_layers_big.accuracy(x_test_pixel, y_test)\n",
    "print(f\"accuracy: {subbig_accuracy}\")\n"
   ]
  },
  {
   "cell_type": "markdown",
   "metadata": {},
   "source": [
    "Точность модели снизилось, возможно это связано с неверным выбором параметров модели"
   ]
  },
  {
   "cell_type": "markdown",
   "metadata": {
    "colab_type": "text",
    "id": "zubjLMhQXzOm"
   },
   "source": [
    "## 3.3  Добавление Batch Normalization слоев\n",
    "Обычно они располагаются после сверточных слоев или слоев полносвязной нейронной сети. Обычно они улучшают качество модели, этим объясняется их популярность использования в современных архитектурах нейронных сетей."
   ]
  },
  {
   "cell_type": "code",
   "execution_count": 39,
   "metadata": {
    "colab": {},
    "colab_type": "code",
    "id": "Pf4cdLlEXzOn"
   },
   "outputs": [],
   "source": [
    "def get_batch_norm(epochs, batch_size=None):\n",
    "    model = SimpleModel(epochs, batch_size=batch_size)\n",
    "\n",
    "    model.add(keras.layers.Conv2D(32,\n",
    "                                  kernel_size=(3,3), \n",
    "                                  input_shape=(28,28, 1),\n",
    "                                  activation='relu',\n",
    "                                 ))\n",
    "    model.add(keras.layers.BatchNormalization())\n",
    "    model.add(keras.layers.Conv2D(32,\n",
    "                                  kernel_size=(3,3), \n",
    "                                  input_shape=(28,28, 1),\n",
    "                                  use_bias=False,\n",
    "                                 ))\n",
    "    model.add(keras.layers.BatchNormalization())\n",
    "    model.add(keras.layers.MaxPooling2D((2,2)))\n",
    "    model.add(keras.layers.Dropout(0.2))\n",
    "\n",
    "    model.add(keras.layers.Conv2D(64,\n",
    "                                  kernel_size=(3,3), \n",
    "                                  input_shape=(28,28, 1),\n",
    "                                  activation='relu',\n",
    "                                 ))\n",
    "    model.add(keras.layers.BatchNormalization())\n",
    "    model.add(keras.layers.Conv2D(64,\n",
    "                                  kernel_size=(3,3), \n",
    "                                  input_shape=(28,28, 1),\n",
    "                                  use_bias=False,\n",
    "                                 ))\n",
    "    model.add(keras.layers.BatchNormalization())\n",
    "    model.add(keras.layers.MaxPooling2D((2,2)))\n",
    "    model.add(keras.layers.Dropout(0.2))\n",
    "    \n",
    "    model.add(keras.layers.Flatten())\n",
    "\n",
    "    model.add(keras.layers.Dense(32, activation='relu',use_bias=False))\n",
    "    model.add(keras.layers.BatchNormalization())\n",
    "    model.add(keras.layers.Dropout(0.2))\n",
    "\n",
    "    model.add(keras.layers.Dense(Param.num_classes, activation='softmax'))\n",
    "    model.compile()\n",
    "    return model\n",
    "\n"
   ]
  },
  {
   "cell_type": "markdown",
   "metadata": {
    "colab_type": "text",
    "id": "8jBnGXfeXzOp"
   },
   "source": [
    "### 3.3.1 Точность модели"
   ]
  },
  {
   "cell_type": "code",
   "execution_count": 41,
   "metadata": {
    "colab": {
     "base_uri": "https://localhost:8080/",
     "height": 88
    },
    "colab_type": "code",
    "id": "dM8Ig3bcXzOq",
    "outputId": "40fd7f20-2e84-4dc9-92e4-c640357cd0ad"
   },
   "outputs": [
    {
     "name": "stdout",
     "output_type": "stream",
     "text": [
      "accuracy: 0.9279000163078308\n"
     ]
    }
   ],
   "source": [
    "batch_norm = get_batch_norm(Param.epochs)\n",
    "batch_norm.fit(x_train_pixel, y_train,\n",
    "               validation_data=(x_test_pixel, y_test),\n",
    "               callbacks=[gen_stop_callback()]\n",
    "              )\n",
    "\n",
    "clear_output()\n",
    "\n",
    "batch_norm_accuracy = batch_norm.accuracy(x_test_pixel, y_test)\n",
    "print(f\"accuracy: {batch_norm_accuracy}\")\n"
   ]
  },
  {
   "cell_type": "markdown",
   "metadata": {
    "colab_type": "text",
    "id": "ZANv1p3lXzOu"
   },
   "source": [
    "# 4. Сводная таблица по всем моделям"
   ]
  },
  {
   "cell_type": "code",
   "execution_count": 49,
   "metadata": {
    "colab": {},
    "colab_type": "code",
    "id": "-eCHfLPcXzOv"
   },
   "outputs": [
    {
     "name": "stdout",
     "output_type": "stream",
     "text": [
      "84.49% точность логистической регрессии\n",
      "88.06% точность полносвязанной сети\n",
      "91.32% точность сверточной сети\n",
      "88.92% точность с увеличенным количеством слоев суб-дискртизации\n",
      "92.79% точность модели с batch-нормализацией\n"
     ]
    }
   ],
   "source": [
    "print(f\"{log_accuracy:.2%} точность логистической регрессии\")\n",
    "print(f\"{hopf_accuracy:.2%} точность полносвязанной сети\")\n",
    "print(f\"{sub_accuracy:.2%} точность сверточной сети\")\n",
    "print(f\"{subbig_accuracy:.2%} точность с увеличенным количеством слоев суб-дискртизации\")\n",
    "print(f\"{batch_norm_accuracy:.2%} точность модели с batch-нормализацией\")\n"
   ]
  },
  {
   "cell_type": "code",
   "execution_count": 50,
   "metadata": {},
   "outputs": [
    {
     "data": {
      "image/png": "[encoded data removed]",
      "text/plain": [
       "<Figure size 432x288 with 1 Axes>"
      ]
     },
     "metadata": {
      "needs_background": "light"
     },
     "output_type": "display_data"
    },
    {
     "data": {
      "image/png": "[encoded data removed]",
      "text/plain": [
       "<Figure size 432x288 with 1 Axes>"
      ]
     },
     "metadata": {
      "needs_background": "light"
     },
     "output_type": "display_data"
    },
    {
     "data": {
      "image/png": "[encoded data removed]",
      "text/plain": [
       "<Figure size 432x288 with 1 Axes>"
      ]
     },
     "metadata": {
      "needs_background": "light"
     },
     "output_type": "display_data"
    },
    {
     "data": {
      "image/png": "[encoded data removed]",
      "text/plain": [
       "<Figure size 432x288 with 1 Axes>"
      ]
     },
     "metadata": {
      "needs_background": "light"
     },
     "output_type": "display_data"
    },
    {
     "data": {
      "image/png": "[encoded data removed]",
      "text/plain": [
       "<Figure size 432x288 with 1 Axes>"
      ]
     },
     "metadata": {
      "needs_background": "light"
     },
     "output_type": "display_data"
    }
   ],
   "source": [
    "prn_graph(log_model.hist_df, 'Логистическая регрессия')\n",
    "prn_graph(hopfield.hist_df, 'Полносвязанная сеть')\n",
    "prn_graph(sub_layers.hist_df, 'Сверточная сеть')\n",
    "prn_graph(sub_layers_big.hist_df, 'Сеть с увеличенным количеством слоев суб-дискретизации')\n",
    "prn_graph(batch_norm.hist_df, 'Сеть с batch-нормализайией')"
   ]
  }
 ],
 "metadata": {
  "colab": {
   "collapsed_sections": [],
   "name": "w6_final_nn.ipynb",
   "provenance": [],
   "version": "0.3.2"
  },
  "kernelspec": {
   "display_name": "Python 3",
   "language": "python",
   "name": "python3"
  },
  "language_info": {
   "codemirror_mode": {
    "name": "ipython",
    "version": 3
   },
   "file_extension": ".py",
   "mimetype": "text/x-python",
   "name": "python",
   "nbconvert_exporter": "python",
   "pygments_lexer": "ipython3",
   "version": "3.6.7"
  }
 },
 "nbformat": 4,
 "nbformat_minor": 1
}
